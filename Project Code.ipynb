{
 "cells": [
  {
   "cell_type": "code",
   "execution_count": null,
   "metadata": {
    "execution": {
     "iopub.execute_input": "2025-03-22T20:25:03.419777Z",
     "iopub.status.busy": "2025-03-22T20:25:03.419265Z",
     "iopub.status.idle": "2025-03-22T20:25:03.433891Z",
     "shell.execute_reply": "2025-03-22T20:25:03.433075Z",
     "shell.execute_reply.started": "2025-03-22T20:25:03.419734Z"
    },
    "trusted": true
   },
   "outputs": [],
   "source": [
    "# Ignoring warnings\n",
    "import os\n",
    "import sys\n",
    "import warnings\n",
    "if not sys.warnoptions:\n",
    "    warnings.simplefilter(\"ignore\")\n",
    "warnings.filterwarnings(\"ignore\", category=DeprecationWarning)"
   ]
  },
  {
   "cell_type": "code",
   "execution_count": null,
   "metadata": {
    "execution": {
     "iopub.execute_input": "2025-03-22T20:25:03.694135Z",
     "iopub.status.busy": "2025-03-22T20:25:03.693794Z",
     "iopub.status.idle": "2025-03-22T20:25:26.897507Z",
     "shell.execute_reply": "2025-03-22T20:25:26.896757Z",
     "shell.execute_reply.started": "2025-03-22T20:25:03.694113Z"
    },
    "trusted": true
   },
   "outputs": [
    {
     "name": "stderr",
     "output_type": "stream",
     "text": [
      "2025-03-22 20:25:10.493798: E external/local_xla/xla/stream_executor/cuda/cuda_dnn.cc:9261] Unable to register cuDNN factory: Attempting to register factory for plugin cuDNN when one has already been registered\n",
      "2025-03-22 20:25:10.493952: E external/local_xla/xla/stream_executor/cuda/cuda_fft.cc:607] Unable to register cuFFT factory: Attempting to register factory for plugin cuFFT when one has already been registered\n",
      "2025-03-22 20:25:10.808518: E external/local_xla/xla/stream_executor/cuda/cuda_blas.cc:1515] Unable to register cuBLAS factory: Attempting to register factory for plugin cuBLAS when one has already been registered\n"
     ]
    }
   ],
   "source": [
    "# Importing libraries\n",
    "import time\n",
    "from tqdm import tqdm\n",
    "import pandas as pd\n",
    "import numpy as np\n",
    "\n",
    "import librosa\n",
    "import librosa.display\n",
    "import seaborn as sns\n",
    "import matplotlib.pyplot as plt\n",
    "from sklearn.preprocessing import StandardScaler, OneHotEncoder\n",
    "from sklearn.metrics import confusion_matrix, classification_report, accuracy_score, precision_score, recall_score, f1_score\n",
    "from sklearn.model_selection import train_test_split\n",
    "from IPython.display import Audio\n",
    "import keras\n",
    "from keras.callbacks import ReduceLROnPlateau, ModelCheckpoint, EarlyStopping\n",
    "from keras.models import Sequential\n",
    "from keras.layers import Dense, Conv1D, MaxPooling1D, Flatten, Dropout, BatchNormalization\n",
    "from keras.utils import to_categorical"
   ]
  },
  {
   "cell_type": "markdown",
   "metadata": {},
   "source": [
    "Use GPU Facilities."
   ]
  },
  {
   "cell_type": "code",
   "execution_count": null,
   "metadata": {
    "execution": {
     "iopub.execute_input": "2025-03-22T20:25:26.900271Z",
     "iopub.status.busy": "2025-03-22T20:25:26.899285Z",
     "iopub.status.idle": "2025-03-22T20:25:32.626503Z",
     "shell.execute_reply": "2025-03-22T20:25:32.625686Z",
     "shell.execute_reply.started": "2025-03-22T20:25:26.900236Z"
    },
    "trusted": true
   },
   "outputs": [
    {
     "name": "stdout",
     "output_type": "stream",
     "text": [
      "We are using the device cuda - Tesla T4\n"
     ]
    }
   ],
   "source": [
    "# Checking if GPU is available\n",
    "import torch\n",
    "device = torch.device(\"cuda\" if torch.cuda.is_available() else \"cpu\")\n",
    "device_name = torch.cuda.get_device_name(0) if torch.cuda.is_available() else \"cpu\"\n",
    "print(\"We are using the device %s - %s\" % (device, device_name))"
   ]
  },
  {
   "cell_type": "code",
   "execution_count": null,
   "metadata": {
    "execution": {
     "iopub.execute_input": "2025-03-22T20:25:32.628183Z",
     "iopub.status.busy": "2025-03-22T20:25:32.627623Z",
     "iopub.status.idle": "2025-03-22T20:25:32.632198Z",
     "shell.execute_reply": "2025-03-22T20:25:32.631209Z",
     "shell.execute_reply.started": "2025-03-22T20:25:32.628159Z"
    },
    "trusted": true
   },
   "outputs": [],
   "source": [
    "# Importing multiple datasets\n",
    "RAVDESS = \"/kaggle/input/ravdess-emotional-speech-audio/audio_speech_actors_01-24/\"\n",
    "CREMA = \"/kaggle/input/cremad/AudioWAV/\"\n",
    "TESS = \"/kaggle/input/toronto-emotional-speech-set-tess/tess toronto emotional speech set data/TESS Toronto emotional speech set data/\"\n",
    "SAVEE = \"/kaggle/input/surrey-audiovisual-expressed-emotion-savee/ALL/\""
   ]
  },
  {
   "cell_type": "code",
   "execution_count": null,
   "metadata": {
    "execution": {
     "iopub.execute_input": "2025-03-22T20:25:32.634320Z",
     "iopub.status.busy": "2025-03-22T20:25:32.634051Z",
     "iopub.status.idle": "2025-03-22T20:25:32.921848Z",
     "shell.execute_reply": "2025-03-22T20:25:32.920791Z",
     "shell.execute_reply.started": "2025-03-22T20:25:32.634301Z"
    },
    "trusted": true
   },
   "outputs": [
    {
     "data": {
      "text/html": [
       "<div>\n",
       "<style scoped>\n",
       "    .dataframe tbody tr th:only-of-type {\n",
       "        vertical-align: middle;\n",
       "    }\n",
       "\n",
       "    .dataframe tbody tr th {\n",
       "        vertical-align: top;\n",
       "    }\n",
       "\n",
       "    .dataframe thead th {\n",
       "        text-align: right;\n",
       "    }\n",
       "</style>\n",
       "<table border=\"1\" class=\"dataframe\">\n",
       "  <thead>\n",
       "    <tr style=\"text-align: right;\">\n",
       "      <th></th>\n",
       "      <th>path</th>\n",
       "      <th>sex</th>\n",
       "      <th>emotion</th>\n",
       "    </tr>\n",
       "  </thead>\n",
       "  <tbody>\n",
       "    <tr>\n",
       "      <th>0</th>\n",
       "      <td>/kaggle/input/ravdess-emotional-speech-audio/a...</td>\n",
       "      <td>female</td>\n",
       "      <td>neutral</td>\n",
       "    </tr>\n",
       "    <tr>\n",
       "      <th>1</th>\n",
       "      <td>/kaggle/input/ravdess-emotional-speech-audio/a...</td>\n",
       "      <td>female</td>\n",
       "      <td>disgust</td>\n",
       "    </tr>\n",
       "    <tr>\n",
       "      <th>2</th>\n",
       "      <td>/kaggle/input/ravdess-emotional-speech-audio/a...</td>\n",
       "      <td>female</td>\n",
       "      <td>disgust</td>\n",
       "    </tr>\n",
       "    <tr>\n",
       "      <th>3</th>\n",
       "      <td>/kaggle/input/ravdess-emotional-speech-audio/a...</td>\n",
       "      <td>female</td>\n",
       "      <td>neutral</td>\n",
       "    </tr>\n",
       "    <tr>\n",
       "      <th>4</th>\n",
       "      <td>/kaggle/input/ravdess-emotional-speech-audio/a...</td>\n",
       "      <td>female</td>\n",
       "      <td>fear</td>\n",
       "    </tr>\n",
       "  </tbody>\n",
       "</table>\n",
       "</div>"
      ],
      "text/plain": [
       "                                                path     sex  emotion\n",
       "0  /kaggle/input/ravdess-emotional-speech-audio/a...  female  neutral\n",
       "1  /kaggle/input/ravdess-emotional-speech-audio/a...  female  disgust\n",
       "2  /kaggle/input/ravdess-emotional-speech-audio/a...  female  disgust\n",
       "3  /kaggle/input/ravdess-emotional-speech-audio/a...  female  neutral\n",
       "4  /kaggle/input/ravdess-emotional-speech-audio/a...  female     fear"
      ]
     },
     "execution_count": 5,
     "metadata": {},
     "output_type": "execute_result"
    }
   ],
   "source": [
    "# Creating a CSV file for RAVDESS dataset\n",
    "ravdess_dir_lis = os.listdir(RAVDESS)\n",
    "path_list = []\n",
    "gender_list = []\n",
    "emotion_list = []\n",
    "\n",
    "emotion_dic = {\n",
    "    '03' : 'happy',\n",
    "    '01' : 'neutral',\n",
    "    '04' : 'sad',\n",
    "    '05' : 'angry',\n",
    "    '06' : 'fear',\n",
    "    '07' : 'disgust',\n",
    "}\n",
    "\n",
    "for directory in ravdess_dir_lis:\n",
    "    actor_files = os.listdir(os.path.join(RAVDESS, directory))\n",
    "    for audio_file in actor_files: \n",
    "        part = audio_file.split('.')[0]\n",
    "        key = part.split('-')[2]\n",
    "        if key in emotion_dic:\n",
    "            gender_code = int(part.split('-')[6])\n",
    "            path_list.append(f\"{RAVDESS}{directory}/{audio_file}\")\n",
    "            gender_list.append('female' if gender_code & 1 == 0 else 'male')\n",
    "            emotion_list.append(emotion_dic[key])\n",
    "            \n",
    "ravdess_df = pd.concat([\n",
    "    pd.DataFrame(path_list, columns=['path']),\n",
    "    pd.DataFrame(gender_list, columns=['sex']),\n",
    "    pd.DataFrame(emotion_list, columns=['emotion'])\n",
    "], axis=1)\n",
    "\n",
    "ravdess_df.head()"
   ]
  },
  {
   "cell_type": "code",
   "execution_count": null,
   "metadata": {
    "execution": {
     "iopub.execute_input": "2025-03-22T20:25:32.923149Z",
     "iopub.status.busy": "2025-03-22T20:25:32.922917Z",
     "iopub.status.idle": "2025-03-22T20:25:33.016786Z",
     "shell.execute_reply": "2025-03-22T20:25:33.015928Z",
     "shell.execute_reply.started": "2025-03-22T20:25:32.923130Z"
    },
    "trusted": true
   },
   "outputs": [
    {
     "data": {
      "text/html": [
       "<div>\n",
       "<style scoped>\n",
       "    .dataframe tbody tr th:only-of-type {\n",
       "        vertical-align: middle;\n",
       "    }\n",
       "\n",
       "    .dataframe tbody tr th {\n",
       "        vertical-align: top;\n",
       "    }\n",
       "\n",
       "    .dataframe thead th {\n",
       "        text-align: right;\n",
       "    }\n",
       "</style>\n",
       "<table border=\"1\" class=\"dataframe\">\n",
       "  <thead>\n",
       "    <tr style=\"text-align: right;\">\n",
       "      <th></th>\n",
       "      <th>path</th>\n",
       "      <th>sex</th>\n",
       "      <th>emotion</th>\n",
       "    </tr>\n",
       "  </thead>\n",
       "  <tbody>\n",
       "    <tr>\n",
       "      <th>0</th>\n",
       "      <td>/kaggle/input/cremad/AudioWAV/1032_IEO_HAP_HI.wav</td>\n",
       "      <td>male</td>\n",
       "      <td>happy</td>\n",
       "    </tr>\n",
       "    <tr>\n",
       "      <th>1</th>\n",
       "      <td>/kaggle/input/cremad/AudioWAV/1076_IEO_FEA_HI.wav</td>\n",
       "      <td>female</td>\n",
       "      <td>fear</td>\n",
       "    </tr>\n",
       "    <tr>\n",
       "      <th>2</th>\n",
       "      <td>/kaggle/input/cremad/AudioWAV/1056_IEO_ANG_HI.wav</td>\n",
       "      <td>female</td>\n",
       "      <td>angry</td>\n",
       "    </tr>\n",
       "    <tr>\n",
       "      <th>3</th>\n",
       "      <td>/kaggle/input/cremad/AudioWAV/1038_IEO_SAD_HI.wav</td>\n",
       "      <td>male</td>\n",
       "      <td>sad</td>\n",
       "    </tr>\n",
       "    <tr>\n",
       "      <th>4</th>\n",
       "      <td>/kaggle/input/cremad/AudioWAV/1043_IEO_DIS_HI.wav</td>\n",
       "      <td>female</td>\n",
       "      <td>disgust</td>\n",
       "    </tr>\n",
       "  </tbody>\n",
       "</table>\n",
       "</div>"
      ],
      "text/plain": [
       "                                                path     sex  emotion\n",
       "0  /kaggle/input/cremad/AudioWAV/1032_IEO_HAP_HI.wav    male    happy\n",
       "1  /kaggle/input/cremad/AudioWAV/1076_IEO_FEA_HI.wav  female     fear\n",
       "2  /kaggle/input/cremad/AudioWAV/1056_IEO_ANG_HI.wav  female    angry\n",
       "3  /kaggle/input/cremad/AudioWAV/1038_IEO_SAD_HI.wav    male      sad\n",
       "4  /kaggle/input/cremad/AudioWAV/1043_IEO_DIS_HI.wav  female  disgust"
      ]
     },
     "execution_count": 6,
     "metadata": {},
     "output_type": "execute_result"
    }
   ],
   "source": [
    "# Creating a CSV file for CREMA dataset\n",
    "crema_dir_list = os.listdir(CREMA)\n",
    "path_list = []\n",
    "gender_list = []\n",
    "emotion_list = []\n",
    "\n",
    "emotion_dic = {\n",
    "    'HAP' : 'happy',\n",
    "    'NEU' : 'neutral',\n",
    "    'SAD' : 'sad',\n",
    "    'ANG' : 'angry',\n",
    "    'FEA' : 'fear',\n",
    "    'DIS' : 'disgust',\n",
    "}\n",
    "\n",
    "female_id_list = [\n",
    "    '1002', '1003', '1004', '1006', '1007', '1008', '1009', '1010', '1012', '1013', '1018', \n",
    "    '1020', '1021', '1024', '1025', '1028', '1029', '1030', '1037', '1043', '1046', '1047', \n",
    "    '1049', '1052', '1053', '1054', '1055', '1056', '1058', '1060', '1061', '1063', '1072', \n",
    "    '1073', '1074', '1075', '1076', '1078', '1079', '1082', '1084', '1089', '1091',\n",
    "]\n",
    "\n",
    "for audio_file in crema_dir_list:\n",
    "    part = audio_file.split('_')\n",
    "    key = part[2]\n",
    "    if key in emotion_dic and part[3] == 'HI.wav':\n",
    "        path_list.append(f\"{CREMA}{audio_file}\")\n",
    "        gender_list.append('female' if part[0] in female_id_list else 'male')\n",
    "        emotion_list.append(emotion_dic[key])\n",
    "\n",
    "crema_df = pd.concat([\n",
    "    pd.DataFrame(path_list, columns=['path']),\n",
    "    pd.DataFrame(gender_list, columns=['sex']),\n",
    "    pd.DataFrame(emotion_list, columns=['emotion'])\n",
    "], axis=1)\n",
    "\n",
    "crema_df.head()"
   ]
  },
  {
   "cell_type": "code",
   "execution_count": null,
   "metadata": {
    "execution": {
     "iopub.execute_input": "2025-03-22T20:25:33.018458Z",
     "iopub.status.busy": "2025-03-22T20:25:33.018101Z",
     "iopub.status.idle": "2025-03-22T20:25:33.228111Z",
     "shell.execute_reply": "2025-03-22T20:25:33.227253Z",
     "shell.execute_reply.started": "2025-03-22T20:25:33.018428Z"
    },
    "trusted": true
   },
   "outputs": [
    {
     "data": {
      "text/html": [
       "<div>\n",
       "<style scoped>\n",
       "    .dataframe tbody tr th:only-of-type {\n",
       "        vertical-align: middle;\n",
       "    }\n",
       "\n",
       "    .dataframe tbody tr th {\n",
       "        vertical-align: top;\n",
       "    }\n",
       "\n",
       "    .dataframe thead th {\n",
       "        text-align: right;\n",
       "    }\n",
       "</style>\n",
       "<table border=\"1\" class=\"dataframe\">\n",
       "  <thead>\n",
       "    <tr style=\"text-align: right;\">\n",
       "      <th></th>\n",
       "      <th>path</th>\n",
       "      <th>sex</th>\n",
       "      <th>emotion</th>\n",
       "    </tr>\n",
       "  </thead>\n",
       "  <tbody>\n",
       "    <tr>\n",
       "      <th>0</th>\n",
       "      <td>/kaggle/input/toronto-emotional-speech-set-tes...</td>\n",
       "      <td>female</td>\n",
       "      <td>fear</td>\n",
       "    </tr>\n",
       "    <tr>\n",
       "      <th>1</th>\n",
       "      <td>/kaggle/input/toronto-emotional-speech-set-tes...</td>\n",
       "      <td>female</td>\n",
       "      <td>fear</td>\n",
       "    </tr>\n",
       "    <tr>\n",
       "      <th>2</th>\n",
       "      <td>/kaggle/input/toronto-emotional-speech-set-tes...</td>\n",
       "      <td>female</td>\n",
       "      <td>fear</td>\n",
       "    </tr>\n",
       "    <tr>\n",
       "      <th>3</th>\n",
       "      <td>/kaggle/input/toronto-emotional-speech-set-tes...</td>\n",
       "      <td>female</td>\n",
       "      <td>fear</td>\n",
       "    </tr>\n",
       "    <tr>\n",
       "      <th>4</th>\n",
       "      <td>/kaggle/input/toronto-emotional-speech-set-tes...</td>\n",
       "      <td>female</td>\n",
       "      <td>fear</td>\n",
       "    </tr>\n",
       "  </tbody>\n",
       "</table>\n",
       "</div>"
      ],
      "text/plain": [
       "                                                path     sex emotion\n",
       "0  /kaggle/input/toronto-emotional-speech-set-tes...  female    fear\n",
       "1  /kaggle/input/toronto-emotional-speech-set-tes...  female    fear\n",
       "2  /kaggle/input/toronto-emotional-speech-set-tes...  female    fear\n",
       "3  /kaggle/input/toronto-emotional-speech-set-tes...  female    fear\n",
       "4  /kaggle/input/toronto-emotional-speech-set-tes...  female    fear"
      ]
     },
     "execution_count": 7,
     "metadata": {},
     "output_type": "execute_result"
    }
   ],
   "source": [
    "# Creating a CSV file for TESS dataset\n",
    "tess_dir_list = os.listdir(TESS)\n",
    "path_list = []\n",
    "gender_list = []\n",
    "emotion_list = [] \n",
    "\n",
    "emotion_dic = {\n",
    "    'happy'   : 'happy',\n",
    "    'neutral' : 'neutral',\n",
    "    'sad'     : 'sad',\n",
    "    'Sad'     : 'sad',\n",
    "    'angry'   : 'angry',\n",
    "    'fear'    : 'fear',\n",
    "    'disgust'  : 'disgust',\n",
    "}\n",
    "\n",
    "for directory in tess_dir_list:\n",
    "    audio_files = os.listdir(os.path.join(TESS, directory))\n",
    "    for audio_file in audio_files:\n",
    "        part = audio_file.split('.')[0]\n",
    "        key = part.split('_')[2]\n",
    "        if key in emotion_dic:\n",
    "            path_list.append(f\"{TESS}{directory}/{audio_file}\") \n",
    "            gender_list.append('female')\n",
    "            emotion_list.append(emotion_dic[key])\n",
    "            \n",
    "tess_df = pd.concat([\n",
    "    pd.DataFrame(path_list, columns=['path']),\n",
    "    pd.DataFrame(gender_list, columns=['sex']),\n",
    "    pd.DataFrame(emotion_list, columns=['emotion'])\n",
    "], axis=1)\n",
    "\n",
    "tess_df.head()"
   ]
  },
  {
   "cell_type": "code",
   "execution_count": null,
   "metadata": {
    "execution": {
     "iopub.execute_input": "2025-03-22T20:25:33.229296Z",
     "iopub.status.busy": "2025-03-22T20:25:33.229082Z",
     "iopub.status.idle": "2025-03-22T20:25:33.256686Z",
     "shell.execute_reply": "2025-03-22T20:25:33.255783Z",
     "shell.execute_reply.started": "2025-03-22T20:25:33.229278Z"
    },
    "trusted": true
   },
   "outputs": [
    {
     "data": {
      "text/html": [
       "<div>\n",
       "<style scoped>\n",
       "    .dataframe tbody tr th:only-of-type {\n",
       "        vertical-align: middle;\n",
       "    }\n",
       "\n",
       "    .dataframe tbody tr th {\n",
       "        vertical-align: top;\n",
       "    }\n",
       "\n",
       "    .dataframe thead th {\n",
       "        text-align: right;\n",
       "    }\n",
       "</style>\n",
       "<table border=\"1\" class=\"dataframe\">\n",
       "  <thead>\n",
       "    <tr style=\"text-align: right;\">\n",
       "      <th></th>\n",
       "      <th>path</th>\n",
       "      <th>sex</th>\n",
       "      <th>emotion</th>\n",
       "    </tr>\n",
       "  </thead>\n",
       "  <tbody>\n",
       "    <tr>\n",
       "      <th>0</th>\n",
       "      <td>/kaggle/input/surrey-audiovisual-expressed-emo...</td>\n",
       "      <td>male</td>\n",
       "      <td>happy</td>\n",
       "    </tr>\n",
       "    <tr>\n",
       "      <th>1</th>\n",
       "      <td>/kaggle/input/surrey-audiovisual-expressed-emo...</td>\n",
       "      <td>male</td>\n",
       "      <td>fear</td>\n",
       "    </tr>\n",
       "    <tr>\n",
       "      <th>2</th>\n",
       "      <td>/kaggle/input/surrey-audiovisual-expressed-emo...</td>\n",
       "      <td>male</td>\n",
       "      <td>happy</td>\n",
       "    </tr>\n",
       "    <tr>\n",
       "      <th>3</th>\n",
       "      <td>/kaggle/input/surrey-audiovisual-expressed-emo...</td>\n",
       "      <td>male</td>\n",
       "      <td>disgust</td>\n",
       "    </tr>\n",
       "    <tr>\n",
       "      <th>4</th>\n",
       "      <td>/kaggle/input/surrey-audiovisual-expressed-emo...</td>\n",
       "      <td>male</td>\n",
       "      <td>angry</td>\n",
       "    </tr>\n",
       "  </tbody>\n",
       "</table>\n",
       "</div>"
      ],
      "text/plain": [
       "                                                path   sex  emotion\n",
       "0  /kaggle/input/surrey-audiovisual-expressed-emo...  male    happy\n",
       "1  /kaggle/input/surrey-audiovisual-expressed-emo...  male     fear\n",
       "2  /kaggle/input/surrey-audiovisual-expressed-emo...  male    happy\n",
       "3  /kaggle/input/surrey-audiovisual-expressed-emo...  male  disgust\n",
       "4  /kaggle/input/surrey-audiovisual-expressed-emo...  male    angry"
      ]
     },
     "execution_count": 8,
     "metadata": {},
     "output_type": "execute_result"
    }
   ],
   "source": [
    "# Creating a CSV file for SAVEE dataset\n",
    "savee_dir_list = os.listdir(SAVEE)\n",
    "path_list = []\n",
    "gender_list = []\n",
    "emotion_list = []\n",
    "\n",
    "emotion_dic = {\n",
    "    'h'  : 'happy',\n",
    "    'n'  : 'neutral',\n",
    "    'sa' : 'sad',\n",
    "    'a'  : 'angry',\n",
    "    'f'  : 'fear',\n",
    "    'd'  : 'disgust'\n",
    "}\n",
    "\n",
    "for audio_file in savee_dir_list:\n",
    "    part = audio_file.split('_')[1]\n",
    "    key = part[:-6]\n",
    "    if key in emotion_dic:\n",
    "        path_list.append(f\"{SAVEE}{audio_file}\")\n",
    "        gender_list.append('male')\n",
    "        emotion_list.append(emotion_dic[key])\n",
    "        \n",
    "savee_df = pd.concat([\n",
    "    pd.DataFrame(path_list, columns=['path']),\n",
    "    pd.DataFrame(gender_list, columns=['sex']),\n",
    "    pd.DataFrame(emotion_list, columns=['emotion'])\n",
    "], axis=1)\n",
    "\n",
    "savee_df.head()"
   ]
  },
  {
   "cell_type": "code",
   "execution_count": null,
   "metadata": {
    "execution": {
     "iopub.execute_input": "2025-03-22T20:25:33.258312Z",
     "iopub.status.busy": "2025-03-22T20:25:33.257950Z",
     "iopub.status.idle": "2025-03-22T20:25:33.269761Z",
     "shell.execute_reply": "2025-03-22T20:25:33.268780Z",
     "shell.execute_reply.started": "2025-03-22T20:25:33.258279Z"
    },
    "trusted": true
   },
   "outputs": [
    {
     "data": {
      "text/html": [
       "<div>\n",
       "<style scoped>\n",
       "    .dataframe tbody tr th:only-of-type {\n",
       "        vertical-align: middle;\n",
       "    }\n",
       "\n",
       "    .dataframe tbody tr th {\n",
       "        vertical-align: top;\n",
       "    }\n",
       "\n",
       "    .dataframe thead th {\n",
       "        text-align: right;\n",
       "    }\n",
       "</style>\n",
       "<table border=\"1\" class=\"dataframe\">\n",
       "  <thead>\n",
       "    <tr style=\"text-align: right;\">\n",
       "      <th></th>\n",
       "      <th>path</th>\n",
       "      <th>sex</th>\n",
       "      <th>emotion</th>\n",
       "    </tr>\n",
       "  </thead>\n",
       "  <tbody>\n",
       "    <tr>\n",
       "      <th>0</th>\n",
       "      <td>/kaggle/input/ravdess-emotional-speech-audio/a...</td>\n",
       "      <td>female</td>\n",
       "      <td>neutral</td>\n",
       "    </tr>\n",
       "    <tr>\n",
       "      <th>1</th>\n",
       "      <td>/kaggle/input/ravdess-emotional-speech-audio/a...</td>\n",
       "      <td>female</td>\n",
       "      <td>disgust</td>\n",
       "    </tr>\n",
       "    <tr>\n",
       "      <th>2</th>\n",
       "      <td>/kaggle/input/ravdess-emotional-speech-audio/a...</td>\n",
       "      <td>female</td>\n",
       "      <td>disgust</td>\n",
       "    </tr>\n",
       "    <tr>\n",
       "      <th>3</th>\n",
       "      <td>/kaggle/input/ravdess-emotional-speech-audio/a...</td>\n",
       "      <td>female</td>\n",
       "      <td>neutral</td>\n",
       "    </tr>\n",
       "    <tr>\n",
       "      <th>4</th>\n",
       "      <td>/kaggle/input/ravdess-emotional-speech-audio/a...</td>\n",
       "      <td>female</td>\n",
       "      <td>fear</td>\n",
       "    </tr>\n",
       "  </tbody>\n",
       "</table>\n",
       "</div>"
      ],
      "text/plain": [
       "                                                path     sex  emotion\n",
       "0  /kaggle/input/ravdess-emotional-speech-audio/a...  female  neutral\n",
       "1  /kaggle/input/ravdess-emotional-speech-audio/a...  female  disgust\n",
       "2  /kaggle/input/ravdess-emotional-speech-audio/a...  female  disgust\n",
       "3  /kaggle/input/ravdess-emotional-speech-audio/a...  female  neutral\n",
       "4  /kaggle/input/ravdess-emotional-speech-audio/a...  female     fear"
      ]
     },
     "execution_count": 9,
     "metadata": {},
     "output_type": "execute_result"
    }
   ],
   "source": [
    "# Concatinating all the datasets\n",
    "df = pd.concat([\n",
    "    ravdess_df, \n",
    "    crema_df, \n",
    "    tess_df, \n",
    "    savee_df\n",
    "], axis=0)\n",
    "df.head()"
   ]
  },
  {
   "cell_type": "code",
   "execution_count": null,
   "metadata": {
    "execution": {
     "iopub.execute_input": "2025-03-22T20:25:33.272039Z",
     "iopub.status.busy": "2025-03-22T20:25:33.271229Z",
     "iopub.status.idle": "2025-03-22T20:25:33.284159Z",
     "shell.execute_reply": "2025-03-22T20:25:33.283225Z",
     "shell.execute_reply.started": "2025-03-22T20:25:33.272001Z"
    },
    "trusted": true
   },
   "outputs": [
    {
     "data": {
      "text/plain": [
       "(4331, 3)"
      ]
     },
     "execution_count": 10,
     "metadata": {},
     "output_type": "execute_result"
    }
   ],
   "source": [
    "# Final shape of the dataset\n",
    "df.shape"
   ]
  },
  {
   "cell_type": "markdown",
   "metadata": {},
   "source": [
    "Split into training data and test data."
   ]
  },
  {
   "cell_type": "code",
   "execution_count": null,
   "metadata": {
    "execution": {
     "iopub.execute_input": "2025-03-22T20:25:33.287334Z",
     "iopub.status.busy": "2025-03-22T20:25:33.287009Z",
     "iopub.status.idle": "2025-03-22T20:25:33.319866Z",
     "shell.execute_reply": "2025-03-22T20:25:33.318929Z",
     "shell.execute_reply.started": "2025-03-22T20:25:33.287295Z"
    },
    "trusted": true
   },
   "outputs": [],
   "source": [
    "# Splitting data into training and testing\n",
    "train_df = df.sample(frac=0.8)\n",
    "test_df = df.drop(train_df.index)"
   ]
  },
  {
   "cell_type": "code",
   "execution_count": null,
   "metadata": {
    "execution": {
     "iopub.execute_input": "2025-03-22T20:25:33.321277Z",
     "iopub.status.busy": "2025-03-22T20:25:33.320984Z",
     "iopub.status.idle": "2025-03-22T20:25:33.327271Z",
     "shell.execute_reply": "2025-03-22T20:25:33.326189Z",
     "shell.execute_reply.started": "2025-03-22T20:25:33.321253Z"
    },
    "trusted": true
   },
   "outputs": [
    {
     "data": {
      "text/plain": [
       "(3465, 3)"
      ]
     },
     "execution_count": 12,
     "metadata": {},
     "output_type": "execute_result"
    }
   ],
   "source": [
    "# Training sample\n",
    "train_df.shape"
   ]
  },
  {
   "cell_type": "code",
   "execution_count": null,
   "metadata": {
    "execution": {
     "iopub.execute_input": "2025-03-22T20:25:33.328863Z",
     "iopub.status.busy": "2025-03-22T20:25:33.328557Z",
     "iopub.status.idle": "2025-03-22T20:25:33.342325Z",
     "shell.execute_reply": "2025-03-22T20:25:33.341280Z",
     "shell.execute_reply.started": "2025-03-22T20:25:33.328840Z"
    },
    "trusted": true
   },
   "outputs": [
    {
     "data": {
      "text/plain": [
       "(319, 3)"
      ]
     },
     "execution_count": 13,
     "metadata": {},
     "output_type": "execute_result"
    }
   ],
   "source": [
    "# Testing sample\n",
    "test_df.shape"
   ]
  },
  {
   "cell_type": "markdown",
   "metadata": {},
   "source": [
    "Let's have a look at the training data."
   ]
  },
  {
   "cell_type": "markdown",
   "metadata": {},
   "source": [
    "### 2.2 Tokenization"
   ]
  },
  {
   "cell_type": "code",
   "execution_count": null,
   "metadata": {
    "execution": {
     "iopub.execute_input": "2025-03-22T20:25:33.343724Z",
     "iopub.status.busy": "2025-03-22T20:25:33.343426Z",
     "iopub.status.idle": "2025-03-22T20:28:18.065664Z",
     "shell.execute_reply": "2025-03-22T20:28:18.064927Z",
     "shell.execute_reply.started": "2025-03-22T20:25:33.343701Z"
    },
    "trusted": true
   },
   "outputs": [
    {
     "data": {
      "application/vnd.jupyter.widget-view+json": {
       "model_id": "bbb46aced7784dae9ad4cf434bcaec7f",
       "version_major": 2,
       "version_minor": 0
      },
      "text/plain": [
       "Map:   0%|          | 0/3465 [00:00<?, ? examples/s]"
      ]
     },
     "metadata": {},
     "output_type": "display_data"
    },
    {
     "data": {
      "application/vnd.jupyter.widget-view+json": {
       "model_id": "a8c4e2d2e70141aea5d740cc72513774",
       "version_major": 2,
       "version_minor": 0
      },
      "text/plain": [
       "Map:   0%|          | 0/319 [00:00<?, ? examples/s]"
      ]
     },
     "metadata": {},
     "output_type": "display_data"
    },
    {
     "data": {
      "application/vnd.jupyter.widget-view+json": {
       "model_id": "4ae54c4541254c25b600832053baff3d",
       "version_major": 2,
       "version_minor": 0
      },
      "text/plain": [
       "preprocessor_config.json:   0%|          | 0.00/212 [00:00<?, ?B/s]"
      ]
     },
     "metadata": {},
     "output_type": "display_data"
    }
   ],
   "source": [
    "# Importing pre-trained embeddings from Wav2Vec model\n",
    "from transformers import Wav2Vec2FeatureExtractor\n",
    "from datasets import Dataset\n",
    "import librosa\n",
    "\n",
    "def map_to_array(example):\n",
    "    speech, _ = librosa.load(example[\"path\"], sr=16000, mono=True)\n",
    "    example[\"speech\"] = speech\n",
    "    return example\n",
    "\n",
    "train_data = Dataset.from_pandas(train_df).map(map_to_array)\n",
    "test_data = Dataset.from_pandas(test_df).map(map_to_array)\n",
    "\n",
    "feature_extractor = Wav2Vec2FeatureExtractor.from_pretrained(\"superb/hubert-large-superb-er\")\n",
    "\n",
    "# Encoding the audio files to numbers\n",
    "train_encodings = feature_extractor(list(train_data[\"speech\"]), sampling_rate=16000, padding=True, return_tensors=\"pt\")\n",
    "test_encodings = feature_extractor(list(test_data[\"speech\"]), sampling_rate=16000, padding=True, return_tensors=\"pt\")"
   ]
  },
  {
   "cell_type": "markdown",
   "metadata": {},
   "source": [
    "### 2.3 Turn data into a Dataset object"
   ]
  },
  {
   "cell_type": "markdown",
   "metadata": {},
   "source": [
    "Define a Dataset class."
   ]
  },
  {
   "cell_type": "code",
   "execution_count": null,
   "metadata": {
    "execution": {
     "iopub.execute_input": "2025-03-22T20:28:18.067082Z",
     "iopub.status.busy": "2025-03-22T20:28:18.066787Z",
     "iopub.status.idle": "2025-03-22T20:28:18.083274Z",
     "shell.execute_reply": "2025-03-22T20:28:18.082428Z",
     "shell.execute_reply.started": "2025-03-22T20:28:18.067060Z"
    },
    "trusted": true
   },
   "outputs": [
    {
     "data": {
      "text/plain": [
       "emotion\n",
       "fear       599\n",
       "happy      598\n",
       "disgust    595\n",
       "sad        592\n",
       "angry      589\n",
       "neutral    492\n",
       "Name: count, dtype: int64"
      ]
     },
     "execution_count": 15,
     "metadata": {},
     "output_type": "execute_result"
    }
   ],
   "source": [
    "# Checking for dataset imbalance\n",
    "train_df.emotion.value_counts()"
   ]
  },
  {
   "cell_type": "code",
   "execution_count": null,
   "metadata": {
    "execution": {
     "iopub.execute_input": "2025-03-22T20:28:18.084658Z",
     "iopub.status.busy": "2025-03-22T20:28:18.084399Z",
     "iopub.status.idle": "2025-03-22T20:28:18.095174Z",
     "shell.execute_reply": "2025-03-22T20:28:18.094167Z",
     "shell.execute_reply.started": "2025-03-22T20:28:18.084637Z"
    },
    "trusted": true
   },
   "outputs": [],
   "source": [
    "# Encoding the labels and creating the dataset\n",
    "class EmotionDataset(torch.utils.data.Dataset):\n",
    "    def __init__(self, encodings, labels):\n",
    "        self.encodings = encodings\n",
    "        pattern = {\n",
    "            'neutral': 0,\n",
    "            'happy': 1,\n",
    "            'sad': 2,\n",
    "            'angry': 3,\n",
    "            'fear': 4,\n",
    "            'disgust': 5\n",
    "        }\n",
    "        self.labels = [pattern[x] for x in labels]\n",
    "\n",
    "    def __getitem__(self, idx):\n",
    "        item = {key: val[idx] for key, val in self.encodings.items()}\n",
    "        item['labels'] = torch.tensor(self.labels[idx])\n",
    "        return item\n",
    "\n",
    "    def __len__(self):\n",
    "        return len(self.labels)\n",
    "\n",
    "train_dataset = EmotionDataset(train_encodings, list(train_data[\"emotion\"]))\n",
    "test_dataset = EmotionDataset(test_encodings, list(test_data[\"emotion\"]))\n"
   ]
  },
  {
   "cell_type": "markdown",
   "metadata": {},
   "source": [
    "## 3. Loading the Model and Optimizer "
   ]
  },
  {
   "cell_type": "code",
   "execution_count": null,
   "metadata": {
    "execution": {
     "iopub.execute_input": "2025-03-22T20:34:19.033624Z",
     "iopub.status.busy": "2025-03-22T20:34:19.033297Z",
     "iopub.status.idle": "2025-03-22T20:34:20.416461Z",
     "shell.execute_reply": "2025-03-22T20:34:20.415365Z",
     "shell.execute_reply.started": "2025-03-22T20:34:19.033600Z"
    },
    "trusted": true
   },
   "outputs": [
    {
     "name": "stderr",
     "output_type": "stream",
     "text": [
      "Some weights of the model checkpoint at superb/hubert-large-superb-er were not used when initializing HubertForSequenceClassification: ['hubert.encoder.pos_conv_embed.conv.weight_g', 'hubert.encoder.pos_conv_embed.conv.weight_v']\n",
      "- This IS expected if you are initializing HubertForSequenceClassification from the checkpoint of a model trained on another task or with another architecture (e.g. initializing a BertForSequenceClassification model from a BertForPreTraining model).\n",
      "- This IS NOT expected if you are initializing HubertForSequenceClassification from the checkpoint of a model that you expect to be exactly identical (initializing a BertForSequenceClassification model from a BertForSequenceClassification model).\n",
      "Some weights of HubertForSequenceClassification were not initialized from the model checkpoint at superb/hubert-large-superb-er and are newly initialized: ['hubert.encoder.pos_conv_embed.conv.parametrizations.weight.original0', 'hubert.encoder.pos_conv_embed.conv.parametrizations.weight.original1']\n",
      "You should probably TRAIN this model on a down-stream task to be able to use it for predictions and inference.\n"
     ]
    }
   ],
   "source": [
    "# Import pre-trained Hubert model from huggingface\n",
    "from transformers import HubertForSequenceClassification\n",
    "from torch.optim import AdamW\n",
    "\n",
    "# Loading pre-trained model\n",
    "model = HubertForSequenceClassification.from_pretrained(\"superb/hubert-large-superb-er\")\n",
    "\n",
    "# Setting the labels to 6 as model is trained on 4\n",
    "model.config.num_labels = 6\n",
    "\n",
    "# Updating classifier to match new number of labels\n",
    "model.classifier = torch.nn.Linear(model.classifier.in_features, 6)\n",
    "model.to(device)\n",
    "\n",
    "optim = AdamW(model.parameters(), lr=1e-5)"
   ]
  },
  {
   "cell_type": "markdown",
   "metadata": {},
   "source": [
    "## 4. Training"
   ]
  },
  {
   "cell_type": "markdown",
   "metadata": {},
   "source": [
    "Prepare some utility functions."
   ]
  },
  {
   "cell_type": "code",
   "execution_count": null,
   "metadata": {
    "execution": {
     "iopub.execute_input": "2025-03-22T20:34:23.866849Z",
     "iopub.status.busy": "2025-03-22T20:34:23.866015Z",
     "iopub.status.idle": "2025-03-22T20:34:23.875384Z",
     "shell.execute_reply": "2025-03-22T20:34:23.874524Z",
     "shell.execute_reply.started": "2025-03-22T20:34:23.866824Z"
    },
    "trusted": true
   },
   "outputs": [
    {
     "name": "stdout",
     "output_type": "stream",
     "text": [
      "{'neutral', 'disgust', 'fear', 'happy', 'angry', 'sad'}\n",
      "{'neutral', 'disgust', 'fear', 'happy', 'angry', 'sad'}\n"
     ]
    }
   ],
   "source": [
    "# Checking unique labels in the training and test data\n",
    "print(set(train_data[\"emotion\"]))\n",
    "print(set(test_data[\"emotion\"]))"
   ]
  },
  {
   "cell_type": "code",
   "execution_count": 31,
   "metadata": {
    "execution": {
     "iopub.execute_input": "2025-03-22T20:34:24.079336Z",
     "iopub.status.busy": "2025-03-22T20:34:24.078983Z",
     "iopub.status.idle": "2025-03-22T20:34:24.084022Z",
     "shell.execute_reply": "2025-03-22T20:34:24.083019Z",
     "shell.execute_reply.started": "2025-03-22T20:34:24.079313Z"
    },
    "trusted": true
   },
   "outputs": [],
   "source": [
    "# Prediction function\n",
    "def predict(outputs):\n",
    "    probabilities = torch.softmax(outputs[\"logits\"], dim=1)\n",
    "    predictions = torch.argmax(probabilities, dim=1)\n",
    "    return predictions"
   ]
  },
  {
   "cell_type": "markdown",
   "metadata": {},
   "source": [
    "Train the model."
   ]
  },
  {
   "cell_type": "code",
   "execution_count": null,
   "metadata": {
    "execution": {
     "iopub.execute_input": "2025-03-22T20:34:24.495206Z",
     "iopub.status.busy": "2025-03-22T20:34:24.494819Z",
     "iopub.status.idle": "2025-03-22T20:34:24.499976Z",
     "shell.execute_reply": "2025-03-22T20:34:24.499095Z",
     "shell.execute_reply.started": "2025-03-22T20:34:24.495182Z"
    },
    "trusted": true
   },
   "outputs": [
    {
     "name": "stdout",
     "output_type": "stream",
     "text": [
      "6\n"
     ]
    }
   ],
   "source": [
    "# Checking number of labels\n",
    "print(model.config.num_labels)"
   ]
  },
  {
   "cell_type": "code",
   "execution_count": null,
   "metadata": {
    "execution": {
     "iopub.execute_input": "2025-03-22T20:34:25.365720Z",
     "iopub.status.busy": "2025-03-22T20:34:25.364716Z",
     "iopub.status.idle": "2025-03-22T23:43:09.335176Z",
     "shell.execute_reply": "2025-03-22T23:43:09.334307Z",
     "shell.execute_reply.started": "2025-03-22T20:34:25.365689Z"
    },
    "scrolled": true,
    "trusted": true
   },
   "outputs": [
    {
     "name": "stdout",
     "output_type": "stream",
     "text": [
      "Epoch 1/10\n"
     ]
    },
    {
     "name": "stderr",
     "output_type": "stream",
     "text": [
      "100%|██████████| 1733/1733 [18:56<00:00,  1.52it/s, Loss=2.025, Accuracy=0.637]\n"
     ]
    },
    {
     "name": "stdout",
     "output_type": "stream",
     "text": [
      "Epoch 2/10\n"
     ]
    },
    {
     "name": "stderr",
     "output_type": "stream",
     "text": [
      "100%|██████████| 1733/1733 [18:51<00:00,  1.53it/s, Loss=0.039, Accuracy=0.854]\n"
     ]
    },
    {
     "name": "stdout",
     "output_type": "stream",
     "text": [
      "Epoch 3/10\n"
     ]
    },
    {
     "name": "stderr",
     "output_type": "stream",
     "text": [
      "100%|██████████| 1733/1733 [18:53<00:00,  1.53it/s, Loss=0.096, Accuracy=0.896]\n"
     ]
    },
    {
     "name": "stdout",
     "output_type": "stream",
     "text": [
      "Epoch 4/10\n"
     ]
    },
    {
     "name": "stderr",
     "output_type": "stream",
     "text": [
      "100%|██████████| 1733/1733 [18:49<00:00,  1.53it/s, Loss=0.087, Accuracy=0.915]\n"
     ]
    },
    {
     "name": "stdout",
     "output_type": "stream",
     "text": [
      "Epoch 5/10\n"
     ]
    },
    {
     "name": "stderr",
     "output_type": "stream",
     "text": [
      "100%|██████████| 1733/1733 [18:53<00:00,  1.53it/s, Loss=0.000, Accuracy=0.931]\n"
     ]
    },
    {
     "name": "stdout",
     "output_type": "stream",
     "text": [
      "Epoch 6/10\n"
     ]
    },
    {
     "name": "stderr",
     "output_type": "stream",
     "text": [
      "100%|██████████| 1733/1733 [18:50<00:00,  1.53it/s, Loss=0.000, Accuracy=0.940]\n"
     ]
    },
    {
     "name": "stdout",
     "output_type": "stream",
     "text": [
      "Epoch 7/10\n"
     ]
    },
    {
     "name": "stderr",
     "output_type": "stream",
     "text": [
      "100%|██████████| 1733/1733 [18:53<00:00,  1.53it/s, Loss=0.000, Accuracy=0.949]\n"
     ]
    },
    {
     "name": "stdout",
     "output_type": "stream",
     "text": [
      "Epoch 8/10\n"
     ]
    },
    {
     "name": "stderr",
     "output_type": "stream",
     "text": [
      "100%|██████████| 1733/1733 [18:50<00:00,  1.53it/s, Loss=0.016, Accuracy=0.957]\n"
     ]
    },
    {
     "name": "stdout",
     "output_type": "stream",
     "text": [
      "Epoch 9/10\n"
     ]
    },
    {
     "name": "stderr",
     "output_type": "stream",
     "text": [
      "100%|██████████| 1733/1733 [18:51<00:00,  1.53it/s, Loss=0.000, Accuracy=0.960]\n"
     ]
    },
    {
     "name": "stdout",
     "output_type": "stream",
     "text": [
      "Epoch 10/10\n"
     ]
    },
    {
     "name": "stderr",
     "output_type": "stream",
     "text": [
      "100%|██████████| 1733/1733 [18:50<00:00,  1.53it/s, Loss=0.000, Accuracy=0.970]\n"
     ]
    }
   ],
   "source": [
    "# Training the model\n",
    "\n",
    "from torch.utils.data import DataLoader\n",
    "\n",
    "# Setting the number of epoch\n",
    "epoch = 10\n",
    "# Start training\n",
    "model.train()\n",
    "\n",
    "train_loss = list()\n",
    "train_accuracies = list()\n",
    "for epoch_i in range(epoch):\n",
    "    print('Epoch %s/%s' % (epoch_i + 1, epoch))\n",
    "    time.sleep(0.3)\n",
    "\n",
    "    # Get training data by DataLoader\n",
    "    train_loader = DataLoader(train_dataset, batch_size=2, shuffle=True)\n",
    "    \n",
    "    correct = 0\n",
    "    count = 0\n",
    "    epoch_loss = list()\n",
    "    \n",
    "    pbar = tqdm(train_loader)\n",
    "    for batch in pbar:\n",
    "        optim.zero_grad()\n",
    "        input_ids = batch['input_values'].to(device)\n",
    "        attention_mask = batch['attention_mask'].to(device)\n",
    "        labels = batch['labels'].to(device)\n",
    "        outputs = model(input_ids, attention_mask=attention_mask, labels=labels)\n",
    "        loss = outputs['loss']\n",
    "        loss.backward()\n",
    "        optim.step()\n",
    "        \n",
    "        # make predictions\n",
    "        predictions = predict(outputs)\n",
    "\n",
    "        # count accuracy\n",
    "        correct += predictions.eq(labels).sum().item()\n",
    "        count += len(labels)\n",
    "        accuracy = correct * 1.0 / count\n",
    "\n",
    "        # show progress along with metrics\n",
    "        pbar.set_postfix({\n",
    "            'Loss': '{:.3f}'.format(loss.item()),\n",
    "            'Accuracy': '{:.3f}'.format(accuracy)\n",
    "        })\n",
    "        \n",
    "        # record the loss for each batch\n",
    "        epoch_loss.append(loss.item())\n",
    "        \n",
    "    pbar.close()\n",
    "    \n",
    "    # record the loss and accuracy for each epoch\n",
    "    train_loss += epoch_loss\n",
    "    train_accuracies.append(accuracy)"
   ]
  },
  {
   "cell_type": "code",
   "execution_count": null,
   "metadata": {
    "execution": {
     "iopub.execute_input": "2025-03-22T23:43:27.238627Z",
     "iopub.status.busy": "2025-03-22T23:43:27.238190Z",
     "iopub.status.idle": "2025-03-22T23:43:29.064614Z",
     "shell.execute_reply": "2025-03-22T23:43:29.063654Z",
     "shell.execute_reply.started": "2025-03-22T23:43:27.238592Z"
    },
    "trusted": true
   },
   "outputs": [],
   "source": [
    "# Saving the models weight\n",
    "torch.save(model.state_dict(), '/kaggle/working/model_final_epoch.pth')"
   ]
  },
  {
   "cell_type": "code",
   "execution_count": null,
   "metadata": {
    "execution": {
     "iopub.execute_input": "2025-03-22T23:43:43.925984Z",
     "iopub.status.busy": "2025-03-22T23:43:43.925029Z",
     "iopub.status.idle": "2025-03-22T23:43:43.930691Z",
     "shell.execute_reply": "2025-03-22T23:43:43.929853Z",
     "shell.execute_reply.started": "2025-03-22T23:43:43.925955Z"
    },
    "trusted": true
   },
   "outputs": [
    {
     "name": "stdout",
     "output_type": "stream",
     "text": [
      "input_ids shape: torch.Size([1, 114220])\n",
      "attention_mask shape: torch.Size([1, 114220])\n",
      "labels shape: torch.Size([1])\n"
     ]
    }
   ],
   "source": [
    "# Getting the trained model info\n",
    "print(\"input_ids shape:\", input_ids.shape)\n",
    "print(\"attention_mask shape:\", attention_mask.shape)\n",
    "print(\"labels shape:\", labels.shape)"
   ]
  },
  {
   "cell_type": "markdown",
   "metadata": {},
   "source": [
    "Visualise the training loss and accuracy."
   ]
  },
  {
   "cell_type": "code",
   "execution_count": null,
   "metadata": {
    "execution": {
     "iopub.execute_input": "2025-03-22T23:44:05.759731Z",
     "iopub.status.busy": "2025-03-22T23:44:05.759412Z",
     "iopub.status.idle": "2025-03-22T23:44:06.448637Z",
     "shell.execute_reply": "2025-03-22T23:44:06.447712Z",
     "shell.execute_reply.started": "2025-03-22T23:44:05.759707Z"
    },
    "trusted": true
   },
   "outputs": [
    {
     "data": {
      "image/png": "[encoded data removed]",
      "text/plain": [
       "<Figure size 640x480 with 1 Axes>"
      ]
     },
     "metadata": {},
     "output_type": "display_data"
    },
    {
     "data": {
      "image/png": "[encoded data removed]",
      "text/plain": [
       "<Figure size 640x480 with 1 Axes>"
      ]
     },
     "metadata": {},
     "output_type": "display_data"
    }
   ],
   "source": [
    "import matplotlib.pyplot as plt\n",
    "import numpy as np\n",
    "\n",
    "# Plotting Iteration vs Training Loss\n",
    "plt.plot(train_loss, label=\"Training Loss\")\n",
    "plt.xlabel(\"Iteration\")\n",
    "plt.ylabel(\"Loss\")\n",
    "plt.title(\"Iteration vs Training Loss\")  \n",
    "plt.legend()\n",
    "plt.show()\n",
    "\n",
    "# Plotting Epoch vs Training Accuracy\n",
    "acc_X = np.arange(len(train_accuracies))+1                          \n",
    "plt.plot(acc_X, train_accuracies,\"-\", label=\"Training Accuracy\")\n",
    "plt.xticks(acc_X)\n",
    "plt.xlabel(\"Epoch\")\n",
    "plt.ylabel(\"Accuracy\")\n",
    "plt.title(\"Epoch vs Training Accuracy\")  \n",
    "plt.legend()\n",
    "plt.show()"
   ]
  },
  {
   "cell_type": "markdown",
   "metadata": {},
   "source": [
    "## 5. Testing"
   ]
  },
  {
   "cell_type": "markdown",
   "metadata": {},
   "source": [
    "Test the model."
   ]
  },
  {
   "cell_type": "code",
   "execution_count": null,
   "metadata": {
    "execution": {
     "iopub.execute_input": "2025-03-22T23:44:20.264045Z",
     "iopub.status.busy": "2025-03-22T23:44:20.263447Z",
     "iopub.status.idle": "2025-03-22T23:44:45.588847Z",
     "shell.execute_reply": "2025-03-22T23:44:45.587924Z",
     "shell.execute_reply.started": "2025-03-22T23:44:20.264015Z"
    },
    "trusted": true
   },
   "outputs": [
    {
     "name": "stderr",
     "output_type": "stream",
     "text": [
      "100%|██████████| 319/319 [00:25<00:00, 12.75it/s, loss=0.000, accuracy=0.994]\n"
     ]
    },
    {
     "name": "stdout",
     "output_type": "stream",
     "text": [
      "The final accuracy on the test dataset: 99.373%\n"
     ]
    }
   ],
   "source": [
    "# Testing the model\n",
    "from torch.utils.data import DataLoader\n",
    "\n",
    "# Get test data by DataLoader\n",
    "test_loader = DataLoader(test_dataset, batch_size=1, shuffle=False)\n",
    "\n",
    "# Start testing\n",
    "model.eval()\n",
    "\n",
    "with torch.no_grad():\n",
    "    \n",
    "    correct = 0\n",
    "    count = 0\n",
    "    record = {\"labels\":list(), \"predictions\":list()}\n",
    "    \n",
    "    pbar = tqdm(test_loader)\n",
    "    for batch in pbar:\n",
    "        input_ids = batch['input_values'].to(device)\n",
    "        attention_mask = batch['attention_mask'].to(device)\n",
    "        labels = batch['labels'].to(device)\n",
    "        outputs = model(input_ids, attention_mask=attention_mask, labels=labels)\n",
    "        loss = outputs['loss']\n",
    "        \n",
    "        # make predictions\n",
    "        predictions = predict(outputs)\n",
    "\n",
    "        # count accuracy\n",
    "        correct += predictions.eq(labels).sum().item()\n",
    "        count += len(labels)\n",
    "        accuracy = correct * 1.0 / count\n",
    "\n",
    "        # show progress along with metrics\n",
    "        pbar.set_postfix({\n",
    "            'loss': '{:.3f}'.format(loss.item()),\n",
    "            'accuracy': '{:.3f}'.format(accuracy)\n",
    "        })\n",
    "    \n",
    "        # record the results\n",
    "        record[\"labels\"] += labels.cpu().numpy().tolist()\n",
    "        record[\"predictions\"] += predictions.cpu().numpy().tolist()\n",
    "        \n",
    "    pbar.close()\n",
    "    \n",
    "time.sleep(0.3)\n",
    "print(\"The final accuracy on the test dataset: %s%%\" % round(accuracy*100,4))"
   ]
  },
  {
   "cell_type": "markdown",
   "metadata": {},
   "source": [
    "Check the result."
   ]
  },
  {
   "cell_type": "code",
   "execution_count": null,
   "metadata": {
    "execution": {
     "iopub.execute_input": "2025-03-22T23:45:57.501066Z",
     "iopub.status.busy": "2025-03-22T23:45:57.500399Z",
     "iopub.status.idle": "2025-03-22T23:45:57.542129Z",
     "shell.execute_reply": "2025-03-22T23:45:57.541179Z",
     "shell.execute_reply.started": "2025-03-22T23:45:57.501027Z"
    },
    "trusted": true
   },
   "outputs": [
    {
     "data": {
      "text/html": [
       "<div>\n",
       "<style scoped>\n",
       "    .dataframe tbody tr th:only-of-type {\n",
       "        vertical-align: middle;\n",
       "    }\n",
       "\n",
       "    .dataframe tbody tr th {\n",
       "        vertical-align: top;\n",
       "    }\n",
       "\n",
       "    .dataframe thead th {\n",
       "        text-align: right;\n",
       "    }\n",
       "</style>\n",
       "<table border=\"1\" class=\"dataframe\">\n",
       "  <thead>\n",
       "    <tr style=\"text-align: right;\">\n",
       "      <th></th>\n",
       "      <th>index</th>\n",
       "      <th>path</th>\n",
       "      <th>sex</th>\n",
       "      <th>emotion</th>\n",
       "      <th>Model Prediction</th>\n",
       "    </tr>\n",
       "  </thead>\n",
       "  <tbody>\n",
       "    <tr>\n",
       "      <th>0</th>\n",
       "      <td>482</td>\n",
       "      <td>/kaggle/input/ravdess-emotional-speech-audio/a...</td>\n",
       "      <td>female</td>\n",
       "      <td>ang</td>\n",
       "      <td>LABEL_3</td>\n",
       "    </tr>\n",
       "    <tr>\n",
       "      <th>1</th>\n",
       "      <td>508</td>\n",
       "      <td>/kaggle/input/ravdess-emotional-speech-audio/a...</td>\n",
       "      <td>female</td>\n",
       "      <td>fea</td>\n",
       "      <td>LABEL_4</td>\n",
       "    </tr>\n",
       "    <tr>\n",
       "      <th>2</th>\n",
       "      <td>530</td>\n",
       "      <td>/kaggle/input/ravdess-emotional-speech-audio/a...</td>\n",
       "      <td>male</td>\n",
       "      <td>ang</td>\n",
       "      <td>LABEL_3</td>\n",
       "    </tr>\n",
       "    <tr>\n",
       "      <th>3</th>\n",
       "      <td>548</td>\n",
       "      <td>/kaggle/input/ravdess-emotional-speech-audio/a...</td>\n",
       "      <td>male</td>\n",
       "      <td>sad</td>\n",
       "      <td>LABEL_2</td>\n",
       "    </tr>\n",
       "    <tr>\n",
       "      <th>4</th>\n",
       "      <td>558</td>\n",
       "      <td>/kaggle/input/ravdess-emotional-speech-audio/a...</td>\n",
       "      <td>male</td>\n",
       "      <td>dis</td>\n",
       "      <td>LABEL_5</td>\n",
       "    </tr>\n",
       "    <tr>\n",
       "      <th>...</th>\n",
       "      <td>...</td>\n",
       "      <td>...</td>\n",
       "      <td>...</td>\n",
       "      <td>...</td>\n",
       "      <td>...</td>\n",
       "    </tr>\n",
       "    <tr>\n",
       "      <th>314</th>\n",
       "      <td>2373</td>\n",
       "      <td>/kaggle/input/toronto-emotional-speech-set-tes...</td>\n",
       "      <td>female</td>\n",
       "      <td>sad</td>\n",
       "      <td>LABEL_2</td>\n",
       "    </tr>\n",
       "    <tr>\n",
       "      <th>315</th>\n",
       "      <td>2374</td>\n",
       "      <td>/kaggle/input/toronto-emotional-speech-set-tes...</td>\n",
       "      <td>female</td>\n",
       "      <td>sad</td>\n",
       "      <td>LABEL_2</td>\n",
       "    </tr>\n",
       "    <tr>\n",
       "      <th>316</th>\n",
       "      <td>2378</td>\n",
       "      <td>/kaggle/input/toronto-emotional-speech-set-tes...</td>\n",
       "      <td>female</td>\n",
       "      <td>sad</td>\n",
       "      <td>LABEL_2</td>\n",
       "    </tr>\n",
       "    <tr>\n",
       "      <th>317</th>\n",
       "      <td>2386</td>\n",
       "      <td>/kaggle/input/toronto-emotional-speech-set-tes...</td>\n",
       "      <td>female</td>\n",
       "      <td>sad</td>\n",
       "      <td>LABEL_2</td>\n",
       "    </tr>\n",
       "    <tr>\n",
       "      <th>318</th>\n",
       "      <td>2399</td>\n",
       "      <td>/kaggle/input/toronto-emotional-speech-set-tes...</td>\n",
       "      <td>female</td>\n",
       "      <td>sad</td>\n",
       "      <td>LABEL_2</td>\n",
       "    </tr>\n",
       "  </tbody>\n",
       "</table>\n",
       "<p>319 rows × 5 columns</p>\n",
       "</div>"
      ],
      "text/plain": [
       "     index                                               path     sex emotion  \\\n",
       "0      482  /kaggle/input/ravdess-emotional-speech-audio/a...  female     ang   \n",
       "1      508  /kaggle/input/ravdess-emotional-speech-audio/a...  female     fea   \n",
       "2      530  /kaggle/input/ravdess-emotional-speech-audio/a...    male     ang   \n",
       "3      548  /kaggle/input/ravdess-emotional-speech-audio/a...    male     sad   \n",
       "4      558  /kaggle/input/ravdess-emotional-speech-audio/a...    male     dis   \n",
       "..     ...                                                ...     ...     ...   \n",
       "314   2373  /kaggle/input/toronto-emotional-speech-set-tes...  female     sad   \n",
       "315   2374  /kaggle/input/toronto-emotional-speech-set-tes...  female     sad   \n",
       "316   2378  /kaggle/input/toronto-emotional-speech-set-tes...  female     sad   \n",
       "317   2386  /kaggle/input/toronto-emotional-speech-set-tes...  female     sad   \n",
       "318   2399  /kaggle/input/toronto-emotional-speech-set-tes...  female     sad   \n",
       "\n",
       "    Model Prediction  \n",
       "0            LABEL_3  \n",
       "1            LABEL_4  \n",
       "2            LABEL_3  \n",
       "3            LABEL_2  \n",
       "4            LABEL_5  \n",
       "..               ...  \n",
       "314          LABEL_2  \n",
       "315          LABEL_2  \n",
       "316          LABEL_2  \n",
       "317          LABEL_2  \n",
       "318          LABEL_2  \n",
       "\n",
       "[319 rows x 5 columns]"
      ]
     },
     "execution_count": 39,
     "metadata": {},
     "output_type": "execute_result"
    }
   ],
   "source": [
    "# Convert test record to a pandas DataFrame object\n",
    "from pandas.core.frame import DataFrame\n",
    "df_record = DataFrame(record)\n",
    "df_record.columns = [\"Ground Truth\",\"Model Prediction\"]\n",
    "\n",
    "def get_emotion(label_id):\n",
    "    return model.config.id2label[label_id]\n",
    "    \n",
    "df_record[\"Ground Truth\"] = df_record.apply(lambda x: get_emotion(x[\"Ground Truth\"]), axis=1)\n",
    "df_record[\"Model Prediction\"] = df_record.apply(lambda x: get_emotion(x[\"Model Prediction\"]), axis=1)\n",
    "\n",
    "# Concat test texts and test records\n",
    "df = pd.concat([test_df.reset_index(), df_record[\"Model Prediction\"]], axis=1)\n",
    "df[\"emotion\"] = df.apply(lambda x: x[\"emotion\"][:3], axis=1)\n",
    "\n",
    "# Show incorrect predictions \n",
    "df[df[\"emotion\"]!=df[\"Model Prediction\"]]"
   ]
  },
  {
   "cell_type": "markdown",
   "metadata": {},
   "source": [
    "Display the Confusion Matrix of the result."
   ]
  },
  {
   "cell_type": "code",
   "execution_count": 40,
   "metadata": {
    "execution": {
     "iopub.execute_input": "2025-03-22T23:46:02.443839Z",
     "iopub.status.busy": "2025-03-22T23:46:02.443326Z",
     "iopub.status.idle": "2025-03-22T23:46:02.861469Z",
     "shell.execute_reply": "2025-03-22T23:46:02.860504Z",
     "shell.execute_reply.started": "2025-03-22T23:46:02.443795Z"
    },
    "trusted": true
   },
   "outputs": [
    {
     "data": {
      "image/png": "[encoded data removed]",
      "text/plain": [
       "<Figure size 640x480 with 2 Axes>"
      ]
     },
     "metadata": {},
     "output_type": "display_data"
    }
   ],
   "source": [
    "# Display the Confusion Matrix\n",
    "import seaborn as sns\n",
    "crosstab = pd.crosstab(df_record[\"Ground Truth\"],df_record[\"Model Prediction\"])\n",
    "sns.heatmap(crosstab, cmap='Oranges', annot=True, fmt='g', linewidths=5)\n",
    "accuracy = df_record[\"Ground Truth\"].eq(df_record[\"Model Prediction\"]).sum() / len(df_record[\"Ground Truth\"])\n",
    "plt.title(\"Confusion Matrix (Accuracy: %s%%)\" % round(accuracy*100,2))\n",
    "plt.show()"
   ]
  },
  {
   "cell_type": "code",
   "execution_count": null,
   "metadata": {
    "trusted": true
   },
   "outputs": [],
   "source": []
  }
 ],
 "metadata": {
  "kaggle": {
   "accelerator": "nvidiaTeslaT4",
   "dataSources": [
    {
     "datasetId": 107620,
     "sourceId": 256618,
     "sourceType": "datasetVersion"
    },
    {
     "datasetId": 316368,
     "sourceId": 639622,
     "sourceType": "datasetVersion"
    },
    {
     "datasetId": 325566,
     "sourceId": 653195,
     "sourceType": "datasetVersion"
    },
    {
     "datasetId": 338555,
     "sourceId": 671851,
     "sourceType": "datasetVersion"
    }
   ],
   "dockerImageVersionId": 30733,
   "isGpuEnabled": true,
   "isInternetEnabled": true,
   "language": "python",
   "sourceType": "notebook"
  },
  "kernelspec": {
   "display_name": "Python 3",
   "language": "python",
   "name": "python3"
  },
  "language_info": {
   "codemirror_mode": {
    "name": "ipython",
    "version": 3
   },
   "file_extension": ".py",
   "mimetype": "text/x-python",
   "name": "python",
   "nbconvert_exporter": "python",
   "pygments_lexer": "ipython3",
   "version": "3.10.13"
  }
 },
 "nbformat": 4,
 "nbformat_minor": 4
}
